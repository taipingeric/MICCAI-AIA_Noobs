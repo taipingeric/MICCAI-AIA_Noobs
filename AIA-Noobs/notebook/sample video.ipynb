{
 "cells": [
  {
   "cell_type": "markdown",
   "id": "f6a91f94",
   "metadata": {},
   "source": [
    "sample video frames: modified from official codes"
   ]
  },
  {
   "cell_type": "code",
   "execution_count": 1,
   "id": "b5509bee",
   "metadata": {},
   "outputs": [],
   "source": [
    "import cv2\n",
    "from pathlib import Path\n",
    "from tqdm.auto import tqdm \n",
    "import concurrent.futures as cf\n",
    "import argparse"
   ]
  },
  {
   "cell_type": "code",
   "execution_count": 2,
   "id": "054c08e8",
   "metadata": {},
   "outputs": [],
   "source": [
    "def sample_video(video_path:Path, extract_dir:Path, sampling_period:int=6, jobs:int=1):\n",
    "    print(str(video_path))\n",
    "    vid = cv2.VideoCapture(str(video_path))\n",
    "    extract_dir.mkdir(exist_ok=True)\n",
    "    n_frames = int(vid.get(cv2.CAP_PROP_FRAME_COUNT))\n",
    "    parallel_saver = cf.ThreadPoolExecutor(max_workers=jobs)\n",
    "\n",
    "    for frame_idx in tqdm(range(n_frames), desc='sampling video'):\n",
    "        _, frame = vid.read()\n",
    "        # print(frame_idx//period, frame_idx%period)\n",
    "        if frame_idx%sampling_period==0:\n",
    "            parallel_saver.submit(cv2.imwrite, \n",
    "                                  str(extract_dir/f'{frame_idx:09d}.png'),\n",
    "                                  frame)\n",
    "    vid.release()\n",
    "\n",
    "def main(video_dir, recursive=True, jobs=4):\n",
    "    sampiling_period:int =6 # please leave this unchanged otherwise the rest of the files will not be compatible with the sampled rgb frames\n",
    "\n",
    "    # find all the files that need to be processed\n",
    "    if not recursive:\n",
    "        video_dirs = [Path(video_dir).resolve()]\n",
    "    else:\n",
    "        video_dirs = [v_p.parent for v_p in Path(video_dir).rglob('*video_left.avi')]\n",
    "    # validate paths\n",
    "    for directory in video_dirs:\n",
    "        if not (directory.exists() and (directory/'video_left.avi').exists()):\n",
    "            print(f\"{directory} does not a video directory. please make sure video directory path is correct\")\n",
    "    \n",
    "    for directory in tqdm(video_dirs, desc='unpacking dataset'):\n",
    "        rgb_dir = (directory/'rgb')\n",
    "        sample_video(directory/'video_left.avi', rgb_dir, sampiling_period, jobs)"
   ]
  },
  {
   "cell_type": "code",
   "execution_count": null,
   "id": "ede29956",
   "metadata": {},
   "outputs": [],
   "source": []
  },
  {
   "cell_type": "code",
   "execution_count": 3,
   "id": "cd0d80f0",
   "metadata": {
    "tags": []
   },
   "outputs": [
    {
     "data": {
      "application/vnd.jupyter.widget-view+json": {
       "model_id": "9aebb015ebd543be9ad516209bcfb204",
       "version_major": 2,
       "version_minor": 0
      },
      "text/plain": [
       "unpacking dataset:   0%|          | 0/17 [00:00<?, ?it/s]"
      ]
     },
     "metadata": {},
     "output_type": "display_data"
    },
    {
     "name": "stdout",
     "output_type": "stream",
     "text": [
      "train1\\video_10\\video_left.avi\n"
     ]
    },
    {
     "data": {
      "application/vnd.jupyter.widget-view+json": {
       "model_id": "0cc0a98520dd4298b30c9e02a9c22a41",
       "version_major": 2,
       "version_minor": 0
      },
      "text/plain": [
       "sampling video:   0%|          | 0/7642 [00:00<?, ?it/s]"
      ]
     },
     "metadata": {},
     "output_type": "display_data"
    },
    {
     "name": "stdout",
     "output_type": "stream",
     "text": [
      "train1\\video_11_1\\video_left.avi\n"
     ]
    },
    {
     "data": {
      "application/vnd.jupyter.widget-view+json": {
       "model_id": "549b9028afd14c1880c792d7ac9a7a96",
       "version_major": 2,
       "version_minor": 0
      },
      "text/plain": [
       "sampling video:   0%|          | 0/14211 [00:00<?, ?it/s]"
      ]
     },
     "metadata": {},
     "output_type": "display_data"
    },
    {
     "name": "stdout",
     "output_type": "stream",
     "text": [
      "train1\\video_11_2\\video_left.avi\n"
     ]
    },
    {
     "data": {
      "application/vnd.jupyter.widget-view+json": {
       "model_id": "fb7a8eaf88f9447987c3f84244806666",
       "version_major": 2,
       "version_minor": 0
      },
      "text/plain": [
       "sampling video:   0%|          | 0/8091 [00:00<?, ?it/s]"
      ]
     },
     "metadata": {},
     "output_type": "display_data"
    },
    {
     "name": "stdout",
     "output_type": "stream",
     "text": [
      "train1\\video_12\\video_left.avi\n"
     ]
    },
    {
     "data": {
      "application/vnd.jupyter.widget-view+json": {
       "model_id": "2e81859d0b0c4e27a92bbe88dd7593d4",
       "version_major": 2,
       "version_minor": 0
      },
      "text/plain": [
       "sampling video:   0%|          | 0/7871 [00:00<?, ?it/s]"
      ]
     },
     "metadata": {},
     "output_type": "display_data"
    },
    {
     "name": "stdout",
     "output_type": "stream",
     "text": [
      "train1\\video_15_1\\video_left.avi\n"
     ]
    },
    {
     "data": {
      "application/vnd.jupyter.widget-view+json": {
       "model_id": "80c0b7ce4fd741e69764be5339349d16",
       "version_major": 2,
       "version_minor": 0
      },
      "text/plain": [
       "sampling video:   0%|          | 0/10794 [00:00<?, ?it/s]"
      ]
     },
     "metadata": {},
     "output_type": "display_data"
    },
    {
     "name": "stdout",
     "output_type": "stream",
     "text": [
      "train1\\video_15_2\\video_left.avi\n"
     ]
    },
    {
     "data": {
      "application/vnd.jupyter.widget-view+json": {
       "model_id": "7ba910134ca24e4dbbcc99eff7eb4989",
       "version_major": 2,
       "version_minor": 0
      },
      "text/plain": [
       "sampling video:   0%|          | 0/7874 [00:00<?, ?it/s]"
      ]
     },
     "metadata": {},
     "output_type": "display_data"
    },
    {
     "name": "stdout",
     "output_type": "stream",
     "text": [
      "train1\\video_16\\video_left.avi\n"
     ]
    },
    {
     "data": {
      "application/vnd.jupyter.widget-view+json": {
       "model_id": "9aaefa5ea2d044e79bdb7cbfd0addb2f",
       "version_major": 2,
       "version_minor": 0
      },
      "text/plain": [
       "sampling video:   0%|          | 0/23060 [00:00<?, ?it/s]"
      ]
     },
     "metadata": {},
     "output_type": "display_data"
    },
    {
     "name": "stdout",
     "output_type": "stream",
     "text": [
      "train1\\video_17\\video_left.avi\n"
     ]
    },
    {
     "data": {
      "application/vnd.jupyter.widget-view+json": {
       "model_id": "6b3fd270dde042eeaa7b7f79362d07d5",
       "version_major": 2,
       "version_minor": 0
      },
      "text/plain": [
       "sampling video:   0%|          | 0/16820 [00:00<?, ?it/s]"
      ]
     },
     "metadata": {},
     "output_type": "display_data"
    },
    {
     "name": "stdout",
     "output_type": "stream",
     "text": [
      "train1\\video_17_1\\video_left.avi\n"
     ]
    },
    {
     "data": {
      "application/vnd.jupyter.widget-view+json": {
       "model_id": "d0f85c53526a420a89edfb139073eae7",
       "version_major": 2,
       "version_minor": 0
      },
      "text/plain": [
       "sampling video:   0%|          | 0/16820 [00:00<?, ?it/s]"
      ]
     },
     "metadata": {},
     "output_type": "display_data"
    },
    {
     "name": "stdout",
     "output_type": "stream",
     "text": [
      "train1\\video_17_2\\video_left.avi\n"
     ]
    },
    {
     "data": {
      "application/vnd.jupyter.widget-view+json": {
       "model_id": "33bffebd1c0845c7b8552cfbfca5c179",
       "version_major": 2,
       "version_minor": 0
      },
      "text/plain": [
       "sampling video:   0%|          | 0/7883 [00:00<?, ?it/s]"
      ]
     },
     "metadata": {},
     "output_type": "display_data"
    },
    {
     "name": "stdout",
     "output_type": "stream",
     "text": [
      "train1\\video_19\\video_left.avi\n"
     ]
    },
    {
     "data": {
      "application/vnd.jupyter.widget-view+json": {
       "model_id": "3b475f18e2c947b6aaa2a51ffcc2091e",
       "version_major": 2,
       "version_minor": 0
      },
      "text/plain": [
       "sampling video:   0%|          | 0/16008 [00:00<?, ?it/s]"
      ]
     },
     "metadata": {},
     "output_type": "display_data"
    },
    {
     "name": "stdout",
     "output_type": "stream",
     "text": [
      "train1\\video_2\\video_left.avi\n"
     ]
    },
    {
     "data": {
      "application/vnd.jupyter.widget-view+json": {
       "model_id": "39a30194f5ed4a93801950ce411a643e",
       "version_major": 2,
       "version_minor": 0
      },
      "text/plain": [
       "sampling video:   0%|          | 0/19756 [00:00<?, ?it/s]"
      ]
     },
     "metadata": {},
     "output_type": "display_data"
    },
    {
     "name": "stdout",
     "output_type": "stream",
     "text": [
      "train1\\video_4\\video_left.avi\n"
     ]
    },
    {
     "data": {
      "application/vnd.jupyter.widget-view+json": {
       "model_id": "67ef9cb4b2e042ed843e5bbcdaa84547",
       "version_major": 2,
       "version_minor": 0
      },
      "text/plain": [
       "sampling video:   0%|          | 0/7812 [00:00<?, ?it/s]"
      ]
     },
     "metadata": {},
     "output_type": "display_data"
    },
    {
     "name": "stdout",
     "output_type": "stream",
     "text": [
      "train1\\video_5\\video_left.avi\n"
     ]
    },
    {
     "data": {
      "application/vnd.jupyter.widget-view+json": {
       "model_id": "9beb5abb96d743ca81efd728c029ae8e",
       "version_major": 2,
       "version_minor": 0
      },
      "text/plain": [
       "sampling video:   0%|          | 0/16275 [00:00<?, ?it/s]"
      ]
     },
     "metadata": {},
     "output_type": "display_data"
    },
    {
     "name": "stdout",
     "output_type": "stream",
     "text": [
      "train1\\video_6\\video_left.avi\n"
     ]
    },
    {
     "data": {
      "application/vnd.jupyter.widget-view+json": {
       "model_id": "d6ffc97c1e3c40f0a6e1980381e1a55e",
       "version_major": 2,
       "version_minor": 0
      },
      "text/plain": [
       "sampling video:   0%|          | 0/42356 [00:00<?, ?it/s]"
      ]
     },
     "metadata": {},
     "output_type": "display_data"
    },
    {
     "name": "stdout",
     "output_type": "stream",
     "text": [
      "train1\\video_8\\video_left.avi\n"
     ]
    },
    {
     "data": {
      "application/vnd.jupyter.widget-view+json": {
       "model_id": "75e27d2ae54846669882a8fef9782a93",
       "version_major": 2,
       "version_minor": 0
      },
      "text/plain": [
       "sampling video:   0%|          | 0/8878 [00:00<?, ?it/s]"
      ]
     },
     "metadata": {},
     "output_type": "display_data"
    },
    {
     "name": "stdout",
     "output_type": "stream",
     "text": [
      "train1\\video_9\\video_left.avi\n"
     ]
    },
    {
     "data": {
      "application/vnd.jupyter.widget-view+json": {
       "model_id": "5c8c4dcd3b33475286e4493fb2406484",
       "version_major": 2,
       "version_minor": 0
      },
      "text/plain": [
       "sampling video:   0%|          | 0/15816 [00:00<?, ?it/s]"
      ]
     },
     "metadata": {},
     "output_type": "display_data"
    }
   ],
   "source": [
    "main('./train1')"
   ]
  },
  {
   "cell_type": "code",
   "execution_count": 6,
   "id": "ab8d4df3",
   "metadata": {},
   "outputs": [
    {
     "data": {
      "application/vnd.jupyter.widget-view+json": {
       "model_id": "8cf63eb37cbd42f9962a017d0067c4ca",
       "version_major": 2,
       "version_minor": 0
      },
      "text/plain": [
       "unpacking dataset:   0%|          | 0/28 [00:00<?, ?it/s]"
      ]
     },
     "metadata": {},
     "output_type": "display_data"
    },
    {
     "name": "stdout",
     "output_type": "stream",
     "text": [
      "train2\\video_1\\video_left.avi\n"
     ]
    },
    {
     "data": {
      "application/vnd.jupyter.widget-view+json": {
       "model_id": "0164ab9adbb949c6b644422d29cd45cb",
       "version_major": 2,
       "version_minor": 0
      },
      "text/plain": [
       "sampling video:   0%|          | 0/33741 [00:00<?, ?it/s]"
      ]
     },
     "metadata": {},
     "output_type": "display_data"
    },
    {
     "name": "stdout",
     "output_type": "stream",
     "text": [
      "train2\\video_13\\video_left.avi\n"
     ]
    },
    {
     "data": {
      "application/vnd.jupyter.widget-view+json": {
       "model_id": "25037fd94ddd4783821e445c76431368",
       "version_major": 2,
       "version_minor": 0
      },
      "text/plain": [
       "sampling video:   0%|          | 0/16321 [00:00<?, ?it/s]"
      ]
     },
     "metadata": {},
     "output_type": "display_data"
    },
    {
     "name": "stdout",
     "output_type": "stream",
     "text": [
      "train2\\video_14\\video_left.avi\n"
     ]
    },
    {
     "data": {
      "application/vnd.jupyter.widget-view+json": {
       "model_id": "9e2f403d71ad4c478fb0a8d8f72c999a",
       "version_major": 2,
       "version_minor": 0
      },
      "text/plain": [
       "sampling video:   0%|          | 0/16903 [00:00<?, ?it/s]"
      ]
     },
     "metadata": {},
     "output_type": "display_data"
    },
    {
     "name": "stdout",
     "output_type": "stream",
     "text": [
      "train2\\video_18\\video_left.avi\n"
     ]
    },
    {
     "data": {
      "application/vnd.jupyter.widget-view+json": {
       "model_id": "34adb9cca20f4d22bd63abc6087f9367",
       "version_major": 2,
       "version_minor": 0
      },
      "text/plain": [
       "sampling video:   0%|          | 0/32685 [00:00<?, ?it/s]"
      ]
     },
     "metadata": {},
     "output_type": "display_data"
    },
    {
     "name": "stdout",
     "output_type": "stream",
     "text": [
      "train2\\video_20\\video_left.avi\n"
     ]
    },
    {
     "data": {
      "application/vnd.jupyter.widget-view+json": {
       "model_id": "2b8047e9303c4f4eb5953a7a87cc0c86",
       "version_major": 2,
       "version_minor": 0
      },
      "text/plain": [
       "sampling video:   0%|          | 0/17360 [00:00<?, ?it/s]"
      ]
     },
     "metadata": {},
     "output_type": "display_data"
    },
    {
     "name": "stdout",
     "output_type": "stream",
     "text": [
      "train2\\video_21\\video_left.avi\n"
     ]
    },
    {
     "data": {
      "application/vnd.jupyter.widget-view+json": {
       "model_id": "0de5272a543943a4b38b19c3cca16f5a",
       "version_major": 2,
       "version_minor": 0
      },
      "text/plain": [
       "sampling video:   0%|          | 0/27264 [00:00<?, ?it/s]"
      ]
     },
     "metadata": {},
     "output_type": "display_data"
    },
    {
     "name": "stdout",
     "output_type": "stream",
     "text": [
      "train2\\video_22\\video_left.avi\n"
     ]
    },
    {
     "data": {
      "application/vnd.jupyter.widget-view+json": {
       "model_id": "47f203c281b242ee81288a7306e36ad8",
       "version_major": 2,
       "version_minor": 0
      },
      "text/plain": [
       "sampling video:   0%|          | 0/22941 [00:00<?, ?it/s]"
      ]
     },
     "metadata": {},
     "output_type": "display_data"
    },
    {
     "name": "stdout",
     "output_type": "stream",
     "text": [
      "train2\\video_23\\video_left.avi\n"
     ]
    },
    {
     "data": {
      "application/vnd.jupyter.widget-view+json": {
       "model_id": "a0fdd41b40404b89a3232b9a91ff5782",
       "version_major": 2,
       "version_minor": 0
      },
      "text/plain": [
       "sampling video:   0%|          | 0/15375 [00:00<?, ?it/s]"
      ]
     },
     "metadata": {},
     "output_type": "display_data"
    },
    {
     "name": "stdout",
     "output_type": "stream",
     "text": [
      "train2\\video_24\\video_left.avi\n"
     ]
    },
    {
     "data": {
      "application/vnd.jupyter.widget-view+json": {
       "model_id": "38b09cd2415a4a5dbc8ee4f0219a8a53",
       "version_major": 2,
       "version_minor": 0
      },
      "text/plain": [
       "sampling video:   0%|          | 0/14964 [00:00<?, ?it/s]"
      ]
     },
     "metadata": {},
     "output_type": "display_data"
    },
    {
     "name": "stdout",
     "output_type": "stream",
     "text": [
      "train2\\video_25\\video_left.avi\n"
     ]
    },
    {
     "data": {
      "application/vnd.jupyter.widget-view+json": {
       "model_id": "c7b8784bb4a74def92f317934b3ecbc9",
       "version_major": 2,
       "version_minor": 0
      },
      "text/plain": [
       "sampling video:   0%|          | 0/9190 [00:00<?, ?it/s]"
      ]
     },
     "metadata": {},
     "output_type": "display_data"
    },
    {
     "name": "stdout",
     "output_type": "stream",
     "text": [
      "train2\\video_26\\video_left.avi\n"
     ]
    },
    {
     "data": {
      "application/vnd.jupyter.widget-view+json": {
       "model_id": "621310b229474e77bc8a22d0960a6c7c",
       "version_major": 2,
       "version_minor": 0
      },
      "text/plain": [
       "sampling video:   0%|          | 0/9819 [00:00<?, ?it/s]"
      ]
     },
     "metadata": {},
     "output_type": "display_data"
    },
    {
     "name": "stdout",
     "output_type": "stream",
     "text": [
      "train2\\video_27\\video_left.avi\n"
     ]
    },
    {
     "data": {
      "application/vnd.jupyter.widget-view+json": {
       "model_id": "d5d048de4c494f77b3b7ed45b8d1abfe",
       "version_major": 2,
       "version_minor": 0
      },
      "text/plain": [
       "sampling video:   0%|          | 0/11271 [00:00<?, ?it/s]"
      ]
     },
     "metadata": {},
     "output_type": "display_data"
    },
    {
     "name": "stdout",
     "output_type": "stream",
     "text": [
      "train2\\video_28\\video_left.avi\n"
     ]
    },
    {
     "data": {
      "application/vnd.jupyter.widget-view+json": {
       "model_id": "af0d5dddc08b41009370c57917475300",
       "version_major": 2,
       "version_minor": 0
      },
      "text/plain": [
       "sampling video:   0%|          | 0/10879 [00:00<?, ?it/s]"
      ]
     },
     "metadata": {},
     "output_type": "display_data"
    },
    {
     "name": "stdout",
     "output_type": "stream",
     "text": [
      "train2\\video_29\\video_left.avi\n"
     ]
    },
    {
     "data": {
      "application/vnd.jupyter.widget-view+json": {
       "model_id": "66b0afd476834d5c8764bac154e4132e",
       "version_major": 2,
       "version_minor": 0
      },
      "text/plain": [
       "sampling video:   0%|          | 0/15470 [00:00<?, ?it/s]"
      ]
     },
     "metadata": {},
     "output_type": "display_data"
    },
    {
     "name": "stdout",
     "output_type": "stream",
     "text": [
      "train2\\video_29_2\\video_left.avi\n"
     ]
    },
    {
     "data": {
      "application/vnd.jupyter.widget-view+json": {
       "model_id": "309c746c29854311a0a369632b7e08c5",
       "version_major": 2,
       "version_minor": 0
      },
      "text/plain": [
       "sampling video:   0%|          | 0/13925 [00:00<?, ?it/s]"
      ]
     },
     "metadata": {},
     "output_type": "display_data"
    },
    {
     "name": "stdout",
     "output_type": "stream",
     "text": [
      "train2\\video_3\\video_left.avi\n"
     ]
    },
    {
     "data": {
      "application/vnd.jupyter.widget-view+json": {
       "model_id": "ad9e80804c2b47628b7930abf75d9b8c",
       "version_major": 2,
       "version_minor": 0
      },
      "text/plain": [
       "sampling video:   0%|          | 0/31305 [00:00<?, ?it/s]"
      ]
     },
     "metadata": {},
     "output_type": "display_data"
    },
    {
     "name": "stdout",
     "output_type": "stream",
     "text": [
      "train2\\video_30\\video_left.avi\n"
     ]
    },
    {
     "data": {
      "application/vnd.jupyter.widget-view+json": {
       "model_id": "d421dde6f80947c08bf565db827f24d7",
       "version_major": 2,
       "version_minor": 0
      },
      "text/plain": [
       "sampling video:   0%|          | 0/34434 [00:00<?, ?it/s]"
      ]
     },
     "metadata": {},
     "output_type": "display_data"
    },
    {
     "name": "stdout",
     "output_type": "stream",
     "text": [
      "train2\\video_31\\video_left.avi\n"
     ]
    },
    {
     "data": {
      "application/vnd.jupyter.widget-view+json": {
       "model_id": "dcebcc140af24768bae4177d52409577",
       "version_major": 2,
       "version_minor": 0
      },
      "text/plain": [
       "sampling video:   0%|          | 0/33894 [00:00<?, ?it/s]"
      ]
     },
     "metadata": {},
     "output_type": "display_data"
    },
    {
     "name": "stdout",
     "output_type": "stream",
     "text": [
      "train2\\video_32\\video_left.avi\n"
     ]
    },
    {
     "data": {
      "application/vnd.jupyter.widget-view+json": {
       "model_id": "3969968762464175a9d6622d4d35867c",
       "version_major": 2,
       "version_minor": 0
      },
      "text/plain": [
       "sampling video:   0%|          | 0/29393 [00:00<?, ?it/s]"
      ]
     },
     "metadata": {},
     "output_type": "display_data"
    },
    {
     "name": "stdout",
     "output_type": "stream",
     "text": [
      "train2\\video_33\\video_left.avi\n"
     ]
    },
    {
     "data": {
      "application/vnd.jupyter.widget-view+json": {
       "model_id": "8f2c6accf3864e3886c2837047d8dbf2",
       "version_major": 2,
       "version_minor": 0
      },
      "text/plain": [
       "sampling video:   0%|          | 0/9436 [00:00<?, ?it/s]"
      ]
     },
     "metadata": {},
     "output_type": "display_data"
    },
    {
     "name": "stdout",
     "output_type": "stream",
     "text": [
      "train2\\video_34\\video_left.avi\n"
     ]
    },
    {
     "data": {
      "application/vnd.jupyter.widget-view+json": {
       "model_id": "26c2ab428e764408a02624b662697797",
       "version_major": 2,
       "version_minor": 0
      },
      "text/plain": [
       "sampling video:   0%|          | 0/6047 [00:00<?, ?it/s]"
      ]
     },
     "metadata": {},
     "output_type": "display_data"
    },
    {
     "name": "stdout",
     "output_type": "stream",
     "text": [
      "train2\\video_35\\video_left.avi\n"
     ]
    },
    {
     "data": {
      "application/vnd.jupyter.widget-view+json": {
       "model_id": "dda3d80a5adb40d29dc3ec475de38603",
       "version_major": 2,
       "version_minor": 0
      },
      "text/plain": [
       "sampling video:   0%|          | 0/30200 [00:00<?, ?it/s]"
      ]
     },
     "metadata": {},
     "output_type": "display_data"
    },
    {
     "name": "stdout",
     "output_type": "stream",
     "text": [
      "train2\\video_36\\video_left.avi\n"
     ]
    },
    {
     "data": {
      "application/vnd.jupyter.widget-view+json": {
       "model_id": "afdae072b52a4bb3adc2dae20dbfcce3",
       "version_major": 2,
       "version_minor": 0
      },
      "text/plain": [
       "sampling video:   0%|          | 0/20298 [00:00<?, ?it/s]"
      ]
     },
     "metadata": {},
     "output_type": "display_data"
    },
    {
     "name": "stdout",
     "output_type": "stream",
     "text": [
      "train2\\video_37\\video_left.avi\n"
     ]
    },
    {
     "data": {
      "application/vnd.jupyter.widget-view+json": {
       "model_id": "f364946a19d6446e99baeb16de42f820",
       "version_major": 2,
       "version_minor": 0
      },
      "text/plain": [
       "sampling video:   0%|          | 0/21583 [00:00<?, ?it/s]"
      ]
     },
     "metadata": {},
     "output_type": "display_data"
    },
    {
     "name": "stdout",
     "output_type": "stream",
     "text": [
      "train2\\video_38\\video_left.avi\n"
     ]
    },
    {
     "data": {
      "application/vnd.jupyter.widget-view+json": {
       "model_id": "6a0bff50dc5d40c7906cce02c6b93383",
       "version_major": 2,
       "version_minor": 0
      },
      "text/plain": [
       "sampling video:   0%|          | 0/18338 [00:00<?, ?it/s]"
      ]
     },
     "metadata": {},
     "output_type": "display_data"
    },
    {
     "name": "stdout",
     "output_type": "stream",
     "text": [
      "train2\\video_39\\video_left.avi\n"
     ]
    },
    {
     "data": {
      "application/vnd.jupyter.widget-view+json": {
       "model_id": "cfdd7483fab04a03ba0b0874fa4cf13b",
       "version_major": 2,
       "version_minor": 0
      },
      "text/plain": [
       "sampling video:   0%|          | 0/14281 [00:00<?, ?it/s]"
      ]
     },
     "metadata": {},
     "output_type": "display_data"
    },
    {
     "name": "stdout",
     "output_type": "stream",
     "text": [
      "train2\\video_40\\video_left.avi\n"
     ]
    },
    {
     "data": {
      "application/vnd.jupyter.widget-view+json": {
       "model_id": "3a93917d237f4f89a535cf46f8019d7b",
       "version_major": 2,
       "version_minor": 0
      },
      "text/plain": [
       "sampling video:   0%|          | 0/16525 [00:00<?, ?it/s]"
      ]
     },
     "metadata": {},
     "output_type": "display_data"
    },
    {
     "name": "stdout",
     "output_type": "stream",
     "text": [
      "train2\\video_7\\video_left.avi\n"
     ]
    },
    {
     "data": {
      "application/vnd.jupyter.widget-view+json": {
       "model_id": "11c20ebb4d0e482f990f78b81bea1abc",
       "version_major": 2,
       "version_minor": 0
      },
      "text/plain": [
       "sampling video:   0%|          | 0/16294 [00:00<?, ?it/s]"
      ]
     },
     "metadata": {},
     "output_type": "display_data"
    }
   ],
   "source": [
    "main('./train2')"
   ]
  },
  {
   "cell_type": "code",
   "execution_count": null,
   "id": "e3f2de8a",
   "metadata": {},
   "outputs": [],
   "source": []
  }
 ],
 "metadata": {
  "kernelspec": {
   "display_name": "Python 3",
   "language": "python",
   "name": "python3"
  },
  "language_info": {
   "codemirror_mode": {
    "name": "ipython",
    "version": 3
   },
   "file_extension": ".py",
   "mimetype": "text/x-python",
   "name": "python",
   "nbconvert_exporter": "python",
   "pygments_lexer": "ipython3",
   "version": "3.8.8"
  }
 },
 "nbformat": 4,
 "nbformat_minor": 5
}
