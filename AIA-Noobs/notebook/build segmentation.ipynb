{
 "cells": [
  {
   "cell_type": "markdown",
   "id": "253b43b4",
   "metadata": {},
   "source": [
    "# Build segmentation only dataset"
   ]
  },
  {
   "cell_type": "code",
   "execution_count": 1,
   "id": "cd443a08",
   "metadata": {},
   "outputs": [],
   "source": [
    "import pandas as pd\n",
    "import os\n",
    "from glob import glob\n",
    "from tqdm.auto import tqdm\n",
    "import shutil\n",
    "\n",
    "SOURCE_ROOT_DIR = '.'\n",
    "ROOT_DIR = './segmentation'"
   ]
  },
  {
   "cell_type": "code",
   "execution_count": 2,
   "id": "22dcd27b",
   "metadata": {},
   "outputs": [],
   "source": [
    "df_train = pd.read_csv('AIA-Noobs/data_config/train.csv')\n",
    "\n",
    "df_val = pd.read_csv('AIA-Noobs/data_config/val.csv')\n",
    "video_dirs = df_train['video_dir'].tolist() + df_val['video_dir'].tolist()"
   ]
  },
  {
   "cell_type": "code",
   "execution_count": 3,
   "id": "a7f92ecf",
   "metadata": {},
   "outputs": [
    {
     "data": {
      "text/plain": [
       "45"
      ]
     },
     "execution_count": 3,
     "metadata": {},
     "output_type": "execute_result"
    }
   ],
   "source": [
    "len(video_dirs)"
   ]
  },
  {
   "cell_type": "code",
   "execution_count": null,
   "id": "48770b72",
   "metadata": {
    "collapsed": true,
    "jupyter": {
     "outputs_hidden": true
    },
    "tags": []
   },
   "outputs": [],
   "source": [
    "# build dir for each video dirs\n",
    "def build_video_dirs():\n",
    "    for video_dir in video_dirs:\n",
    "        target_dir = os.path.join(ROOT_DIR, video_dir)\n",
    "        print(target_dir)\n",
    "        os.makedirs(target_dir, exist_ok=True)\n",
    "        frame_dir = os.path.join(target_dir, 'rgb')\n",
    "        mask_dir = os.path.join(target_dir, 'segmentation')\n",
    "        os.makedirs(frame_dir, exist_ok=True)\n",
    "        os.makedirs(mask_dir, exist_ok=True)"
   ]
  },
  {
   "cell_type": "code",
   "execution_count": null,
   "id": "76475ee4",
   "metadata": {
    "collapsed": true,
    "jupyter": {
     "outputs_hidden": true
    },
    "tags": []
   },
   "outputs": [],
   "source": [
    "# copy seg frames and masks\n",
    "def copy_segmentation_frames():\n",
    "    for video_dir in tqdm(video_dirs):\n",
    "        print(video_dir)\n",
    "        mask_paths = glob(os.path.join(SOURCE_ROOT_DIR, video_dir, 'segmentation', '*.png'))\n",
    "        img_paths = [p.replace('segmentation', 'rgb') for p in mask_paths]\n",
    "        print(len(mask_paths))\n",
    "        for img_p, mask_p in tqdm(zip(img_paths, mask_paths), leave=False):\n",
    "            filename = os.path.split(img_p)[-1]\n",
    "            target_img_path = os.path.join(ROOT_DIR, video_dir, 'rgb', filename)\n",
    "            target_mask_path = os.path.join(ROOT_DIR, video_dir, 'segmentation', filename)\n",
    "            shutil.copy(img_p, target_img_path)\n",
    "            shutil.copy(mask_p, target_mask_path)\n"
   ]
  },
  {
   "cell_type": "code",
   "execution_count": null,
   "id": "75af32b2",
   "metadata": {},
   "outputs": [],
   "source": [
    "# validate image and mask count\n",
    "\n",
    "def validate_ds_img_count():\n",
    "    source_paths = glob('./train*/*/segmentation/*.png')\n",
    "    print(len(source_paths))\n",
    "    seg_paths = glob('./segmentation/train*/*/segmentation/*.png')\n",
    "    print(len(seg_paths))\n",
    "    rgb_paths = glob('./segmentation/train*/*/rgb/*.png')\n",
    "    print(len(rgb_paths))\n",
    "\n",
    "validate_ds_img_count()"
   ]
  },
  {
   "cell_type": "code",
   "execution_count": null,
   "id": "867deed6",
   "metadata": {},
   "outputs": [],
   "source": []
  }
 ],
 "metadata": {
  "kernelspec": {
   "display_name": "Python 3",
   "language": "python",
   "name": "python3"
  },
  "language_info": {
   "codemirror_mode": {
    "name": "ipython",
    "version": 3
   },
   "file_extension": ".py",
   "mimetype": "text/x-python",
   "name": "python",
   "nbconvert_exporter": "python",
   "pygments_lexer": "ipython3",
   "version": "3.8.8"
  }
 },
 "nbformat": 4,
 "nbformat_minor": 5
}
