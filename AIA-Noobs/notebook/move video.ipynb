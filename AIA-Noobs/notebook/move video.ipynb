{
 "cells": [
  {
   "cell_type": "code",
   "execution_count": 2,
   "id": "184cce9d",
   "metadata": {},
   "outputs": [],
   "source": [
    "from glob import glob \n",
    "import os\n",
    "import shutil"
   ]
  },
  {
   "cell_type": "code",
   "execution_count": 3,
   "id": "5d68323b",
   "metadata": {},
   "outputs": [],
   "source": [
    "paths = glob('../train1/*/video_left.avi') + glob('../train2/*/video_left.avi')"
   ]
  },
  {
   "cell_type": "code",
   "execution_count": 4,
   "id": "3b0f8952",
   "metadata": {},
   "outputs": [
    {
     "data": {
      "text/plain": [
       "44"
      ]
     },
     "execution_count": 4,
     "metadata": {},
     "output_type": "execute_result"
    }
   ],
   "source": [
    "len(paths)"
   ]
  },
  {
   "cell_type": "code",
   "execution_count": 13,
   "id": "2de8eb85",
   "metadata": {},
   "outputs": [],
   "source": [
    "TARGET_DIR = '../video-raw'"
   ]
  },
  {
   "cell_type": "code",
   "execution_count": 15,
   "id": "cf9bd296",
   "metadata": {},
   "outputs": [
    {
     "name": "stdout",
     "output_type": "stream",
     "text": [
      "../train1\\video_10\\video_left.avi\n",
      "../train1\\video_11_1\\video_left.avi\n",
      "../train1\\video_11_2\\video_left.avi\n",
      "../train1\\video_12\\video_left.avi\n",
      "../train1\\video_15_1\\video_left.avi\n",
      "../train1\\video_15_2\\video_left.avi\n",
      "../train1\\video_16\\video_left.avi\n",
      "../train1\\video_17\\video_left.avi\n",
      "../train1\\video_17_1\\video_left.avi\n",
      "../train1\\video_17_2\\video_left.avi\n",
      "../train1\\video_19\\video_left.avi\n",
      "../train1\\video_2\\video_left.avi\n",
      "../train1\\video_4\\video_left.avi\n",
      "../train1\\video_5\\video_left.avi\n",
      "../train1\\video_6\\video_left.avi\n",
      "../train1\\video_8\\video_left.avi\n",
      "../train1\\video_9\\video_left.avi\n",
      "../train2\\video_1\\video_left.avi\n",
      "../train2\\video_13\\video_left.avi\n",
      "../train2\\video_14\\video_left.avi\n",
      "../train2\\video_18\\video_left.avi\n",
      "../train2\\video_20\\video_left.avi\n",
      "../train2\\video_21\\video_left.avi\n",
      "../train2\\video_22\\video_left.avi\n",
      "../train2\\video_23\\video_left.avi\n",
      "../train2\\video_24\\video_left.avi\n",
      "../train2\\video_25\\video_left.avi\n",
      "../train2\\video_26\\video_left.avi\n",
      "../train2\\video_27\\video_left.avi\n",
      "../train2\\video_28\\video_left.avi\n",
      "../train2\\video_29\\video_left.avi\n",
      "../train2\\video_29_2\\video_left.avi\n",
      "../train2\\video_3\\video_left.avi\n",
      "../train2\\video_30\\video_left.avi\n",
      "../train2\\video_32\\video_left.avi\n",
      "../train2\\video_33\\video_left.avi\n",
      "../train2\\video_34\\video_left.avi\n",
      "../train2\\video_35\\video_left.avi\n",
      "../train2\\video_36\\video_left.avi\n",
      "../train2\\video_37\\video_left.avi\n",
      "../train2\\video_38\\video_left.avi\n",
      "../train2\\video_39\\video_left.avi\n",
      "../train2\\video_40\\video_left.avi\n",
      "../train2\\video_7\\video_left.avi\n"
     ]
    }
   ],
   "source": [
    "for path in paths:\n",
    "    print(path)\n",
    "    video_name = path.split(os.sep)[-2] + '.avi'\n",
    "#     print(video_name)\n",
    "    target_path = os.path.join(TARGET_DIR, video_name)\n",
    "#     print(target_path)\n",
    "#     break\n",
    "    shutil.move(path, target_path)"
   ]
  },
  {
   "cell_type": "code",
   "execution_count": null,
   "id": "c763e917",
   "metadata": {},
   "outputs": [],
   "source": []
  }
 ],
 "metadata": {
  "kernelspec": {
   "display_name": "Python 3",
   "language": "python",
   "name": "python3"
  },
  "language_info": {
   "codemirror_mode": {
    "name": "ipython",
    "version": 3
   },
   "file_extension": ".py",
   "mimetype": "text/x-python",
   "name": "python",
   "nbconvert_exporter": "python",
   "pygments_lexer": "ipython3",
   "version": "3.8.8"
  }
 },
 "nbformat": 4,
 "nbformat_minor": 5
}
