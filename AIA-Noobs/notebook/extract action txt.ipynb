{
 "cells": [
  {
   "cell_type": "markdown",
   "id": "4d5b4d12",
   "metadata": {},
   "source": [
    "# Copy action ground truth to destination dir with same tree architecture"
   ]
  },
  {
   "cell_type": "code",
   "execution_count": 3,
   "id": "8b2d9d2d",
   "metadata": {},
   "outputs": [],
   "source": [
    "import os\n",
    "import shutil\n",
    "from glob import glob"
   ]
  },
  {
   "cell_type": "code",
   "execution_count": 21,
   "id": "3708b8bd",
   "metadata": {},
   "outputs": [],
   "source": [
    "ROOT_DIR = '.'\n",
    "TARGET_DIR = './action_gt'"
   ]
  },
  {
   "cell_type": "code",
   "execution_count": 15,
   "id": "b835ce24",
   "metadata": {},
   "outputs": [
    {
     "data": {
      "text/plain": [
       "90"
      ]
     },
     "execution_count": 15,
     "metadata": {},
     "output_type": "execute_result"
    }
   ],
   "source": [
    "len(glob(os.path.join(ROOT_DIR, 'train*/video*/action*.txt')))"
   ]
  },
  {
   "cell_type": "code",
   "execution_count": 33,
   "id": "0cbe2779",
   "metadata": {
    "tags": []
   },
   "outputs": [
    {
     "data": {
      "text/plain": [
       "['train1\\\\video_10', 'train1\\\\video_10', 'train1\\\\video_11_1']"
      ]
     },
     "execution_count": 33,
     "metadata": {},
     "output_type": "execute_result"
    }
   ],
   "source": [
    "source_paths = glob(os.path.join(ROOT_DIR, 'train*/video*/action*.txt'))\n",
    "dir_trees = [str(os.sep).join(p.split(os.sep)[1:-1]) for p in source_paths]\n",
    "dir_trees[:3]"
   ]
  },
  {
   "cell_type": "code",
   "execution_count": 24,
   "id": "40d1ad3e",
   "metadata": {},
   "outputs": [],
   "source": [
    "# create target dirs\n",
    "\n",
    "for tree_dir in dir_trees:\n",
    "    target_dir = os.path.join(TARGET_DIR, tree_dir)\n",
    "    if not os.path.exists(target_dir):\n",
    "        os.makedirs(target_dir)"
   ]
  },
  {
   "cell_type": "code",
   "execution_count": 27,
   "id": "1d91edd5",
   "metadata": {},
   "outputs": [],
   "source": [
    "# move files\n",
    "\n",
    "for p in source_paths:\n",
    "    t_tree = str(os.sep).join(p.split(os.sep)[1:])\n",
    "    target_p = os.path.join(TARGET_DIR, t_tree)\n",
    "    shutil.copyfile(p, target_p)\n",
    "#     break"
   ]
  },
  {
   "cell_type": "code",
   "execution_count": 28,
   "id": "569581c9",
   "metadata": {},
   "outputs": [
    {
     "data": {
      "text/plain": [
       "90"
      ]
     },
     "execution_count": 28,
     "metadata": {},
     "output_type": "execute_result"
    }
   ],
   "source": [
    "len(glob(os.path.join(TARGET_DIR, 'train*/video*/action*.txt')))"
   ]
  },
  {
   "cell_type": "code",
   "execution_count": null,
   "id": "dcfd685f",
   "metadata": {},
   "outputs": [],
   "source": []
  }
 ],
 "metadata": {
  "kernelspec": {
   "display_name": "Python 3",
   "language": "python",
   "name": "python3"
  },
  "language_info": {
   "codemirror_mode": {
    "name": "ipython",
    "version": 3
   },
   "file_extension": ".py",
   "mimetype": "text/x-python",
   "name": "python",
   "nbconvert_exporter": "python",
   "pygments_lexer": "ipython3",
   "version": "3.8.8"
  }
 },
 "nbformat": 4,
 "nbformat_minor": 5
}
