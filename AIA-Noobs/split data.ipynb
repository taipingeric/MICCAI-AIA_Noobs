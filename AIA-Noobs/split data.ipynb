{
 "cells": [
  {
   "cell_type": "code",
   "execution_count": 1,
   "id": "f5098b93",
   "metadata": {},
   "outputs": [
    {
     "name": "stderr",
     "output_type": "stream",
     "text": [
      "<frozen importlib._bootstrap>:219: RuntimeWarning: scipy._lib.messagestream.MessageStream size changed, may indicate binary incompatibility. Expected 56 from C header, got 64 from PyObject\n"
     ]
    }
   ],
   "source": [
    "from sklearn.model_selection import train_test_split\n",
    "import pandas as pd\n",
    "from glob import glob\n",
    "import os"
   ]
  },
  {
   "cell_type": "code",
   "execution_count": 2,
   "id": "3eaa7c8a",
   "metadata": {},
   "outputs": [
    {
     "data": {
      "text/plain": [
       "(45,)"
      ]
     },
     "execution_count": 2,
     "metadata": {},
     "output_type": "execute_result"
    }
   ],
   "source": [
    "video_dirs = sorted(glob('../train*/video_*'))\n",
    "video_dirs = [str(os.sep).join(p.split(os.sep)[-2:]) for p in video_dirs]\n",
    "len(video_dirs), #video_dirs"
   ]
  },
  {
   "cell_type": "code",
   "execution_count": 3,
   "id": "1126dbcd",
   "metadata": {},
   "outputs": [],
   "source": [
    "train_dirs, val_dirs = train_test_split(video_dirs, test_size=0.2, random_state=5566)"
   ]
  },
  {
   "cell_type": "code",
   "execution_count": 4,
   "id": "e0526563",
   "metadata": {
    "tags": []
   },
   "outputs": [],
   "source": [
    "def save_df(dirs, filename):\n",
    "    df = pd.DataFrame()\n",
    "    df['video_dir'] = dirs\n",
    "    df.to_csv(filename, index=None)\n",
    "\n",
    "save_df(train_dirs, 'train.csv')\n",
    "save_df(val_dirs, 'val.csv')"
   ]
  },
  {
   "cell_type": "code",
   "execution_count": null,
   "id": "05a3d0cd",
   "metadata": {},
   "outputs": [],
   "source": []
  }
 ],
 "metadata": {
  "kernelspec": {
   "display_name": "Python 3 (ipykernel)",
   "language": "python",
   "name": "python3"
  },
  "language_info": {
   "codemirror_mode": {
    "name": "ipython",
    "version": 3
   },
   "file_extension": ".py",
   "mimetype": "text/x-python",
   "name": "python",
   "nbconvert_exporter": "python",
   "pygments_lexer": "ipython3",
   "version": "3.7.10"
  }
 },
 "nbformat": 4,
 "nbformat_minor": 5
}
